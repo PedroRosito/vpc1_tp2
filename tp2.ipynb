{
 "cells": [
  {
   "cell_type": "code",
   "execution_count": 25,
   "metadata": {},
   "outputs": [
    {
     "name": "stdout",
     "output_type": "stream",
     "text": [
      "Using matplotlib backend: TkAgg\n"
     ]
    }
   ],
   "source": [
    "#Si queremos que las imágenes sean mostradas en una ventana emergente quitar el inline\n",
    "# %matplotlib inline\n",
    "%matplotlib\n",
    "\n",
    "import numpy as np\n",
    "import cv2 as cv\n",
    "import matplotlib.pyplot as plt"
   ]
  },
  {
   "cell_type": "code",
   "execution_count": 26,
   "metadata": {},
   "outputs": [],
   "source": [
    "img = cv.imread('gecko_tokay.jpg', cv.IMREAD_GRAYSCALE)\n",
    "h, w = img.shape"
   ]
  },
  {
   "cell_type": "code",
   "execution_count": 27,
   "metadata": {},
   "outputs": [],
   "source": [
    "def create_gauss_filter(h, w, k_size=5, sigma=5):\n",
    "    nucleo_g = cv.getGaussianKernel(ksize=k_size, sigma=sigma)\n",
    "    kernel = nucleo_g * nucleo_g.T\n",
    "    if kernel.shape[0] < h:\n",
    "        zero_qty = h - kernel.shape[0]\n",
    "        if zero_qty % 2 == 0:\n",
    "            zero_qty = (h - kernel.shape[0])//2\n",
    "            kernel = np.pad(kernel, ((zero_qty, zero_qty), (0, 0)), 'constant', constant_values=(0))\n",
    "        else:\n",
    "            zero_qty = (h - kernel.shape[0])//2\n",
    "            kernel = np.pad(kernel, ((zero_qty, zero_qty + 1), (0, 0)), 'constant', constant_values=(0))\n",
    "    if kernel.shape[1] < w:\n",
    "        zero_qty = w - kernel.shape[1]\n",
    "        if zero_qty % 2 == 0:\n",
    "            zero_qty = (w - kernel.shape[1])//2\n",
    "            kernel = np.pad(kernel, ((0, 0), (zero_qty, zero_qty)), 'constant', constant_values=(0))\n",
    "        else:\n",
    "            zero_qty = (w - kernel.shape[1])//2\n",
    "            kernel = np.pad(kernel, ((0, 0), (zero_qty, zero_qty + 1)), 'constant', constant_values=(0))\n",
    "    kernel_fft = np.fft.fft2(kernel)\n",
    "    return kernel, kernel_fft"
   ]
  },
  {
   "cell_type": "code",
   "execution_count": 28,
   "metadata": {},
   "outputs": [
    {
     "data": {
      "text/plain": [
       "<matplotlib.image.AxesImage at 0x7f032b1193f0>"
      ]
     },
     "execution_count": 28,
     "metadata": {},
     "output_type": "execute_result"
    }
   ],
   "source": [
    "kernel, kernel_tf = create_gauss_filter(h, w, k_size=20, sigma=5)\n",
    "\n",
    "plt.figure(figsize=(12,12))\n",
    "plt.subplot(1,2,1)\n",
    "plt.axis('off')\n",
    "plt.title(\"Kernel Gausiano\")\n",
    "plt.imshow(kernel, cmap='jet')\n",
    "plt.subplot(1,2,2)\n",
    "plt.axis('off')\n",
    "plt.title(\"FFT del kernel\")\n",
    "tf_shifted = np.fft.fftshift(kernel_tf)\n",
    "plt.imshow(np.abs(tf_shifted), cmap='jet')"
   ]
  },
  {
   "cell_type": "code",
   "execution_count": 29,
   "metadata": {},
   "outputs": [
    {
     "data": {
      "text/plain": [
       "<matplotlib.image.AxesImage at 0x7f032b09a170>"
      ]
     },
     "execution_count": 29,
     "metadata": {},
     "output_type": "execute_result"
    }
   ],
   "source": [
    "kernel, kernel_tf = create_gauss_filter(h, w, k_size=15, sigma=2)\n",
    "\n",
    "plt.figure(figsize=(12,12))\n",
    "plt.subplot(1,2,1)\n",
    "plt.axis('off')\n",
    "plt.title(\"Kernel Gausiano\")\n",
    "plt.imshow(kernel, cmap='jet')\n",
    "plt.subplot(1,2,2)\n",
    "plt.axis('off')\n",
    "plt.title(\"FFT del kernel\")\n",
    "tf_shifted = np.fft.fftshift(kernel_tf)\n",
    "plt.imshow(np.abs(tf_shifted), cmap='jet')"
   ]
  },
  {
   "cell_type": "code",
   "execution_count": 30,
   "metadata": {},
   "outputs": [
    {
     "data": {
      "text/plain": [
       "<matplotlib.image.AxesImage at 0x7f032af1df60>"
      ]
     },
     "execution_count": 30,
     "metadata": {},
     "output_type": "execute_result"
    }
   ],
   "source": [
    "kernel, kernel_tf = create_gauss_filter(h, w, k_size=10, sigma=3)\n",
    "\n",
    "plt.figure(figsize=(12,12))\n",
    "plt.subplot(1,2,1)\n",
    "plt.axis('off')\n",
    "plt.title(\"Kernel Gausiano\")\n",
    "plt.imshow(kernel, cmap='jet')\n",
    "plt.subplot(1,2,2)\n",
    "plt.axis('off')\n",
    "plt.title(\"FFT del kernel\")\n",
    "tf_shifted = np.fft.fftshift(kernel_tf)\n",
    "plt.imshow(np.abs(tf_shifted), cmap='jet')"
   ]
  },
  {
   "cell_type": "code",
   "execution_count": 31,
   "metadata": {},
   "outputs": [
    {
     "data": {
      "text/plain": [
       "Text(0.5, 1.0, 'Desenfoque gausiano')"
      ]
     },
     "execution_count": 31,
     "metadata": {},
     "output_type": "execute_result"
    }
   ],
   "source": [
    "img_fft = np.fft.fft2(img)\n",
    "filtered = img_fft * kernel_tf\n",
    "\n",
    "#img_gauss = np.real(np.fft.ifft2(np.fft.ifftshift(filtered)))\n",
    "img_gauss = np.fft.ifftshift(np.real(np.fft.ifft2(filtered)))\n",
    "\n",
    "plt.figure(figsize=(12,12))\n",
    "plt.subplot(1,2,1)\n",
    "plt.axis('off')\n",
    "plt.imshow(img, cmap='gray')\n",
    "plt.title('Imagen en escala de grises')\n",
    "plt.subplot(1,2,2)\n",
    "plt.axis('off')\n",
    "plt.imshow(img_gauss, cmap='gray')\n",
    "plt.title('Desenfoque gausiano')"
   ]
  },
  {
   "cell_type": "code",
   "execution_count": 32,
   "metadata": {},
   "outputs": [
    {
     "name": "stdout",
     "output_type": "stream",
     "text": [
      "0.0025368012843704777\n"
     ]
    }
   ],
   "source": [
    "def ISMBIFD(img):\n",
    "    img_fft = np.fft.fft2(img)\n",
    "    fc = np.fft.fftshift(img_fft)\n",
    "    af = np.abs(fc)\n",
    "    m = np.max(af)\n",
    "    threshold = m/1000\n",
    "    t_h = np.count_nonzero(img_fft > threshold)\n",
    "    fm = t_h/(img.shape[0]*img.shape[1])\n",
    "    return fm\n",
    "\n",
    "print(ISMBIFD(img_gauss))"
   ]
  },
  {
   "cell_type": "code",
   "execution_count": 33,
   "metadata": {},
   "outputs": [],
   "source": [
    "# Suavizado Gaussiano usando el Kernel\n",
    "#=====================================\n",
    "\n",
    "result_b = cv.filter2D(img, -1, kernel)"
   ]
  },
  {
   "cell_type": "code",
   "execution_count": 34,
   "metadata": {},
   "outputs": [
    {
     "name": "stdout",
     "output_type": "stream",
     "text": [
      "0.002587678636034732\n"
     ]
    }
   ],
   "source": [
    "print(ISMBIFD(result_b))"
   ]
  },
  {
   "cell_type": "code",
   "execution_count": 35,
   "metadata": {},
   "outputs": [],
   "source": [
    "# Gray-level variance\n",
    "\n",
    "def sta3(img):\n",
    "    u = np.mean(img)\n",
    "    phi = 0\n",
    "    h, w = img.shape\n",
    "    for i in range(h):\n",
    "        for j in range(w):\n",
    "            phi = phi + pow((img[i, j] - u), 2)\n",
    "    return phi"
   ]
  },
  {
   "cell_type": "code",
   "execution_count": 36,
   "metadata": {},
   "outputs": [
    {
     "name": "stdout",
     "output_type": "stream",
     "text": [
      "919280598.2238556 919901669.9012867\n"
     ]
    }
   ],
   "source": [
    "print(sta3(img_gauss), sta3(result_b))"
   ]
  },
  {
   "attachments": {},
   "cell_type": "markdown",
   "metadata": {},
   "source": [
    "## Conclusiones\n",
    "\n",
    "### Se observa que los resultados obtenidos en cada caso son los esperados (valores de las funciones utilizadas para la comparación similares), ya que la operación aplicada sobre la imagen es la misma. La diferencia se encuentra en que en un caso se realiza en el dominio espectral y en el otro en el dominio espacial."
   ]
  }
 ],
 "metadata": {
  "kernelspec": {
   "display_name": "vc1_env",
   "language": "python",
   "name": "python3"
  },
  "language_info": {
   "codemirror_mode": {
    "name": "ipython",
    "version": 3
   },
   "file_extension": ".py",
   "mimetype": "text/x-python",
   "name": "python",
   "nbconvert_exporter": "python",
   "pygments_lexer": "ipython3",
   "version": "3.10.9"
  },
  "orig_nbformat": 4
 },
 "nbformat": 4,
 "nbformat_minor": 2
}
